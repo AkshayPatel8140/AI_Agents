{
 "cells": [
  {
   "cell_type": "markdown",
   "id": "e2479dda",
   "metadata": {},
   "source": [
    "# The Chat Format\n",
    "\n",
    "In this notebook, you will explore how you can utilize the chat format to have extended conversations with chatbots personalized or specialized for specific tasks or behaviors.\n",
    "\n",
    "## Setup"
   ]
  },
  {
   "cell_type": "code",
   "execution_count": null,
   "id": "05b13930",
   "metadata": {},
   "outputs": [],
   "source": [
    "import os\n",
    "import openai\n",
    "from dotenv import load_dotenv, find_dotenv\n",
    "\n",
    "_ = load_dotenv(find_dotenv())  # read local .env file\n",
    "\n",
    "openai.api_key = os.getenv(\"OPENAI_API_KEY\")"
   ]
  },
  {
   "cell_type": "code",
   "execution_count": null,
   "id": "b90e7213",
   "metadata": {},
   "outputs": [],
   "source": [
    "# Functions to interact with OpenAI's API it will take one user message and will give you response.\n",
    "#  Function to get completion from a user message\n",
    "#  @param prompt: The user message to get a response for\n",
    "#  @param model: The model to use for generating the response\n",
    "#  @return: The content of the response message\n",
    "def get_completion(prompt, model=\"gpt-3.5-turbo\"):\n",
    "    messages = [{\"role\": \"user\", \"content\": prompt}]  # create a list of messages\n",
    "    # the model expects a list of messages, not just a string prompt\n",
    "    response = openai.ChatCompletion.create(\n",
    "        model=model,\n",
    "        messages=messages,\n",
    "        temperature=0,  # this is the degree of randomness of the model's output\n",
    "    )\n",
    "    return response.choices[0].message[\"content\"]\n",
    "\n",
    "\n",
    "#  Function to get completion from messages\n",
    "#  @param messages: List of messages in the conversation\n",
    "#  @param model: The model to use for generating the response\n",
    "#  @param temperature: Controls the randomness of the output\n",
    "#  @return: The content of the response message\n",
    "def get_completion_from_messages(messages, model=\"gpt-3.5-turbo\", temperature=0):\n",
    "    response = openai.ChatCompletion.create(\n",
    "        model=model,\n",
    "        messages=messages,  # list of messages\n",
    "        temperature=temperature,  # this is the degree of randomness of the model's output\n",
    "    )\n",
    "    return response.choices[0].message[\"content\"]"
   ]
  },
  {
   "cell_type": "markdown",
   "id": "4651eaa8",
   "metadata": {},
   "source": [
    "Example 1\n",
    "- Simple chat with AI with first message"
   ]
  },
  {
   "cell_type": "code",
   "execution_count": null,
   "id": "c31a56b7",
   "metadata": {},
   "outputs": [],
   "source": [
    "\n",
    "response = get_completion('Hi, my name is Isa')\n",
    "print(response)\n",
    "# Maybe Output: \"Hello Isa! It's a pleasure to meet you. How can I assist you today?\""
   ]
  },
  {
   "cell_type": "markdown",
   "id": "1df7cbca",
   "metadata": {},
   "source": [
    "Example 2\n",
    "- If you specify a role or behavior in the system message, the AI bot will adopt that role and maintain it throughout the entire conversation with the user."
   ]
  },
  {
   "cell_type": "code",
   "execution_count": null,
   "id": "96e0ed4e",
   "metadata": {},
   "outputs": [],
   "source": [
    "messages = [\n",
    "    {\"role\": \"system\", \"content\": \"You are an assistant that speaks like Shakespeare.\"},\n",
    "    {\"role\": \"user\", \"content\": \"tell me a joke\"},\n",
    "    {\"role\": \"assistant\", \"content\": \"Why did the chicken cross the road\"},\n",
    "    {\"role\": \"user\", \"content\": \"I don't know\"},\n",
    "]\n",
    "response = get_completion_from_messages(messages, temperature=1)\n",
    "print(response)\n",
    "# Maybe Output: \"To get to the other side, perchance! A jest both old and oft heard, but a merry one nonetheless\""
   ]
  },
  {
   "cell_type": "markdown",
   "id": "eec52719",
   "metadata": {},
   "source": [
    "Example 3 \n",
    "- Just ask for personal information"
   ]
  },
  {
   "cell_type": "code",
   "execution_count": null,
   "id": "3bb21378",
   "metadata": {},
   "outputs": [],
   "source": [
    "messages = [\n",
    "    {\"role\": \"system\", \"content\": \"You are friendly chatbot.\"},\n",
    "    {\"role\": \"user\", \"content\": \"Yes, can you remind me, what is my name?\"},\n",
    "]\n",
    "response = get_completion_from_messages(messages, temperature=1)\n",
    "print(response)\n",
    "# Maybe Output: \"I'm sorry, but I don't have access to your name or any personal information about you. How can I assist you today?\""
   ]
  },
  {
   "cell_type": "markdown",
   "id": "9331b9bd",
   "metadata": {},
   "source": [
    "Example 4 \n",
    "- Take a list of messages of previous conversion"
   ]
  },
  {
   "cell_type": "code",
   "execution_count": null,
   "id": "e9ea97f5",
   "metadata": {},
   "outputs": [],
   "source": [
    "messages =  [  \n",
    "{'role':'system', 'content':'You are friendly chatbot.'},\n",
    "{'role':'user', 'content':'Hi, my name is Isa'},\n",
    "{'role':'assistant', 'content': \"Hi Isa! It's nice to meet you. \\\n",
    "Is there anything I can help you with today?\"},\n",
    "{'role':'user', 'content':'Yes, you can remind me, What is my name?'}  ]\n",
    "response = get_completion_from_messages(messages, temperature=1)\n",
    "print(response)"
   ]
  },
  {
   "cell_type": "markdown",
   "id": "e7266c17",
   "metadata": {},
   "source": [
    "# OrderBot\n",
    "We can automate the collection of user prompts and assistant responses to build a  OrderBot. The OrderBot will take orders at a pizza restaurant. "
   ]
  },
  {
   "cell_type": "code",
   "execution_count": null,
   "id": "60fb3e4a",
   "metadata": {},
   "outputs": [],
   "source": [
    "import panel as pn  # GUI\n",
    "\n",
    "pn.extension()\n",
    "\n",
    "panels = []  # collect display panels\n",
    "\n",
    "# context is a list of messages that will be sent to the model initially\n",
    "context = [ {'role':'system', 'content':\"\"\"\n",
    "You are OrderBot, an automated service to collect orders for a pizza restaurant. \\\n",
    "You first greet the customer, then collects the order, \\\n",
    "and then asks if it's a pickup or delivery. \\\n",
    "You wait to collect the entire order, then summarize it and check for a final \\\n",
    "time if the customer wants to add anything else. \\\n",
    "If it's a delivery, you ask for an address. \\\n",
    "Finally you collect the payment.\\\n",
    "Make sure to clarify all options, extras and sizes to uniquely \\\n",
    "identify the item from the menu.\\\n",
    "You respond in a short, very conversational friendly style. \\\n",
    "The menu includes \\\n",
    "pepperoni pizza  12.95, 10.00, 7.00 \\\n",
    "cheese pizza   10.95, 9.25, 6.50 \\\n",
    "eggplant pizza   11.95, 9.75, 6.75 \\\n",
    "fries 4.50, 3.50 \\\n",
    "greek salad 7.25 \\\n",
    "Toppings: \\\n",
    "extra cheese 2.00, \\\n",
    "mushrooms 1.50 \\\n",
    "sausage 3.00 \\\n",
    "canadian bacon 3.50 \\\n",
    "AI sauce 1.50 \\\n",
    "peppers 1.00 \\\n",
    "Drinks: \\\n",
    "coke 3.00, 2.00, 1.00 \\\n",
    "sprite 3.00, 2.00, 1.00 \\\n",
    "bottled water 5.00 \\\n",
    "\"\"\"} ]  # accumulate messages"
   ]
  },
  {
   "cell_type": "code",
   "execution_count": null,
   "id": "c1ab337b",
   "metadata": {},
   "outputs": [],
   "source": [
    "# This is the input field for the user to type their message\n",
    "inp = pn.widgets.TextInput(value=\"Hi\", placeholder=\"Enter text here…\")\n",
    "\n",
    "# The button to send the message\n",
    "button_conversation = pn.widgets.Button(name=\"Chat!\")"
   ]
  },
  {
   "cell_type": "code",
   "execution_count": null,
   "id": "4ae69173",
   "metadata": {},
   "outputs": [],
   "source": [
    "# Function to handle the button click event\n",
    "def collect_messages(_):\n",
    "    prompt = inp.value_input\n",
    "    inp.value = \"\"\n",
    "    \n",
    "    # Append the user message to the context\n",
    "    context.append({\"role\": \"user\", \"content\": f\"{prompt}\"})\n",
    "    \n",
    "    # Get the response from the model\n",
    "    response = get_completion_from_messages(context)\n",
    "    \n",
    "    # Append the assistant's response to the context\n",
    "    context.append({\"role\": \"assistant\", \"content\": f\"{response}\"})\n",
    "    \n",
    "    # append messages to the panel for the conversation\n",
    "    panels.append(pn.Row(\"User:\", pn.pane.Markdown(prompt, width=600)))\n",
    "    panels.append(pn.Row(\"Assistant:\",pn.pane.Markdown(response, width=600, style={\"background-color\": \"#F6F6F6\"})))\n",
    "\n",
    "    return pn.Column(*panels)"
   ]
  },
  {
   "cell_type": "code",
   "execution_count": null,
   "id": "9bbfd443",
   "metadata": {},
   "outputs": [],
   "source": [
    "# Bind the button click event to the collect_messages function\n",
    "interactive_conversation = pn.bind(collect_messages, button_conversation)\n",
    "\n",
    "# Create the dashboard layout\n",
    "dashboard = pn.Column(\n",
    "    inp,\n",
    "    pn.Row(button_conversation),\n",
    "    pn.panel(interactive_conversation, loading_indicator=True, height=300),\n",
    ")\n",
    "\n",
    "# Display the dashboard\n",
    "dashboard"
   ]
  },
  {
   "cell_type": "code",
   "execution_count": null,
   "id": "3d469931",
   "metadata": {},
   "outputs": [],
   "source": [
    "# After completing the order by chatting with the bot, you can use the following code to display the final order summary:\n",
    "messages = context.copy()\n",
    "messages.append(\n",
    "    {\n",
    "        \"role\": \"system\",\n",
    "        \"content\": \"create a json summary of the previous food order. Itemize the price for each item\\\n",
    " The fields should be \\\n",
    " 1) pizza, include size \\\n",
    " 2) list of toppings \\\n",
    " 3) list of drinks, include size   \\\n",
    " 4) list of sides include size  \\\n",
    " 5) total price \",\n",
    "    },\n",
    ")\n",
    "# The fields should be 1) pizza, price 2) list of toppings 3) list of drinks, include size include price  4) list of sides include size include price, 5)total price '},\n",
    "\n",
    "response = get_completion_from_messages(messages, temperature=0)\n",
    "print(response)"
   ]
  }
 ],
 "metadata": {
  "language_info": {
   "name": "python"
  }
 },
 "nbformat": 4,
 "nbformat_minor": 5
}
